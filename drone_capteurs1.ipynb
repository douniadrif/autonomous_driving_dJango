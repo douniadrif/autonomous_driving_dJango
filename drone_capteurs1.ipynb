{
 "cells": [
  {
   "cell_type": "code",
   "execution_count": null,
   "metadata": {},
   "outputs": [],
   "source": [
    "!pip install faker \n"
   ]
  },
  {
   "cell_type": "code",
   "execution_count": null,
   "metadata": {},
   "outputs": [],
   "source": [
    "import datetime\n",
    "datetime.datetime.now().isoformat()\n"
   ]
  },
  {
   "cell_type": "code",
   "execution_count": null,
   "metadata": {},
   "outputs": [],
   "source": [
    "import random\n",
    "import time\n",
    "\n",
    "def str_time_prop(start, end, format, prop):\n",
    "    \"\"\"Get a time at a proportion of a range of two formatted times.\n",
    "\n",
    "    start and end should be strings specifying times formated in the\n",
    "    given format (strftime-style), giving an interval [start, end].\n",
    "    prop specifies how a proportion of the interval to be taken after\n",
    "    start.  The returned time will be in the specified format.\n",
    "    \"\"\"\n",
    "\n",
    "    stime = time.mktime(time.strptime(start, format))\n",
    "    etime = time.mktime(time.strptime(end, format))\n",
    "\n",
    "    ptime = stime + prop * (etime - stime)\n",
    "\n",
    "    return time.strftime(format, time.localtime(ptime))\n",
    "\n",
    "\n",
    "def random_date(start, end, prop):\n",
    "    return str_time_prop(start, end, '%m/%d/%Y %I:%M %p', prop)\n",
    "\n",
    "print(random_date(\"1/1/2008 1:30 PM\", \"1/1/2009 4:50 AM\", random.random()))"
   ]
  },
  {
   "cell_type": "code",
   "execution_count": null,
   "metadata": {},
   "outputs": [],
   "source": [
    " #fake.random_element(elements=OrderedDict([(\"a\", 0.45), (\"b\", 0.35), (\"c\", 0.15), (\"d\", 0.05), ]))\n",
    " #fake.random_int(min=0, max=15)\n",
    "#iso8601(tzinfo=None, end_datetime=None)\n",
    "from datetime import date\n",
    "from faker import Faker\n",
    "import pandas as pd\n",
    "import random\n",
    "fake = Faker()\n",
    "\n",
    "#left_digits=None, right_digits=None, positive=False, min_value=None, max_value=None\n",
    "def create_rows(num=1):\n",
    "    output = [{\"date_time\":fake.iso8601(tzinfo= 1597361662657, end_datetime=None),\n",
    "                \"address\":fake.address(),\n",
    "                \"latitude\":fake.latitude(),\n",
    "                \"longitude\": fake.longitude(),\n",
    "               \n",
    "                \"puissance en V\":fake.pyfloat(left_digits=2, right_digits=2, min_value= -4, max_value=8),\n",
    "               \n",
    "                \"tension électrique en m/s\":fake.pyfloat(left_digits=1, right_digits=2, min_value= 3, max_value=4),#4.2\n",
    "                \"intensité du courant électrique en A\":fake.pyfloat(left_digits=2, right_digits=2, min_value= 400, max_value=500 ),\n",
    "                \"temperature en °C\":fake.pyfloat(left_digits=2, right_digits=1, min_value= -50, max_value=50),\n",
    "               \n",
    "                \"Vitesse de vent en m/s \":fake.pyfloat(left_digits=2, right_digits=1, min_value= 0, max_value=10),\n",
    "                \"pression en bar\":fake.pyfloat(left_digits=1, right_digits=2, min_value= 0, max_value=2),#2.4\n",
    "                \"object\": fake.pybool()} for x in range(num)]\n",
    "    return output"
   ]
  },
  {
   "cell_type": "code",
   "execution_count": null,
   "metadata": {},
   "outputs": [],
   "source": []
  },
  {
   "cell_type": "code",
   "execution_count": null,
   "metadata": {},
   "outputs": [],
   "source": [
    "\n",
    "%%time\n",
    "df = pd.DataFrame(create_rows(10))\n",
    "\n",
    "   "
   ]
  },
  {
   "cell_type": "code",
   "execution_count": null,
   "metadata": {
    "scrolled": true
   },
   "outputs": [],
   "source": [
    "df.head(10)"
   ]
  },
  {
   "cell_type": "raw",
   "metadata": {},
   "source": [
    "\n"
   ]
  },
  {
   "cell_type": "code",
   "execution_count": null,
   "metadata": {},
   "outputs": [],
   "source": [
    "#df.to_csv('desktop/capteurs_drone')"
   ]
  },
  {
   "cell_type": "code",
   "execution_count": null,
   "metadata": {},
   "outputs": [],
   "source": [
    "#problem 1 : Time on iso8601 should start for now and generate every min or second \n",
    "#somethink like that random_date(\"1/1/2008 1:30 PM\", \"1/1/2009 4:50 AM\", 0.34)\n",
    "#check https://stackoverflow.com/Questions/553303/generate-a-random-date-between-two-other-dates\n",
    "\n",
    "\n",
    "#problem 2 : Les intervale min max de chacun en normes "
   ]
  },
  {
   "cell_type": "code",
   "execution_count": null,
   "metadata": {},
   "outputs": [],
   "source": [
    "# The maximum allowable altitude is 400 feet above the ground\n",
    "\n",
    "\n",
    "#Maximum speed is 100 mph (87 knots)\n",
    "\n",
    "#vitesse de vent max : 10 m/s ou 36 km/\n",
    "\n",
    "#limit temperature : 0°C à 40°C\t\n",
    "\n",
    "\n",
    "#min tension :  3V\n",
    "#max tension : 4.2V\n"
   ]
  },
  {
   "cell_type": "code",
   "execution_count": null,
   "metadata": {},
   "outputs": [],
   "source": [
    "import sched, time\n",
    "s = sched.scheduler(time.time, time.sleep)\n",
    "def do_something(sc): \n",
    "    print(\"Doing stuff...\")\n",
    "    # do your stuff\n",
    "    s.enter(60, 1, do_something, (sc,))\n",
    "\n",
    "s.enter(60, 1, do_something, (s,))\n",
    "s.run()"
   ]
  },
  {
   "cell_type": "code",
   "execution_count": null,
   "metadata": {},
   "outputs": [],
   "source": [
    "import time\n",
    "\n",
    "for i in range(0,15):\n",
    "    \n",
    "    time.sleep(0.001)"
   ]
  },
  {
   "cell_type": "code",
   "execution_count": null,
   "metadata": {},
   "outputs": [],
   "source": []
  }
 ],
 "metadata": {
  "kernelspec": {
   "display_name": "Python 3",
   "language": "python",
   "name": "python3"
  },
  "language_info": {
   "codemirror_mode": {
    "name": "ipython",
    "version": 3
   },
   "file_extension": ".py",
   "mimetype": "text/x-python",
   "name": "python",
   "nbconvert_exporter": "python",
   "pygments_lexer": "ipython3",
   "version": "3.8.5"
  }
 },
 "nbformat": 4,
 "nbformat_minor": 4
}
