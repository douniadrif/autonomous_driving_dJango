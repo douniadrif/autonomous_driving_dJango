{
 "cells": [
  {
   "cell_type": "code",
   "execution_count": 2,
   "metadata": {},
   "outputs": [],
   "source": [
    "import requests\n",
    "from lxml import html\n",
    "from bs4 import BeautifulSoup\n",
    "import csv\n",
    "\n",
    "USERNAME = \"760b30b973\"\n",
    "PASSWORD = \"pw29b7\"\n",
    "LOGIN_URL = \"https://www.marklines.com/en/members/login\"\n",
    "URL = 'https://www.marklines.com/en/green_vehicles/case_top'\n",
    "\n",
    "session_requests = requests.session()\n",
    "\n",
    "# Get login csrf token\n",
    "result = session_requests.get(LOGIN_URL)\n",
    "tree = html.fromstring(result.text)\n",
    "authenticity_token = list(set(tree.xpath(\"//input[@name='csrfToken']/@value\")))[0]\n",
    "\n",
    "# Create payload\n",
    "payload = {\n",
    "        \"profiles.login.login_id\": USERNAME, \n",
    "        \"profiles.login.password\": PASSWORD, \n",
    "        \"csrfToken\": authenticity_token\n",
    "    }\n",
    "\n",
    "# Perform login\n",
    "result = session_requests.post(LOGIN_URL, data = payload, headers = dict(referer = LOGIN_URL))\n",
    "\n",
    "session_requests = requests.session()\n",
    "\n",
    "# Get login csrf token\n",
    "result = session_requests.get(LOGIN_URL)\n",
    "tree = html.fromstring(result.text)\n",
    "authenticity_token = list(set(tree.xpath(\"//input[@name='csrfToken']/@value\")))[0]\n",
    "\n",
    "# Create payload\n",
    "payload = {\n",
    "        \"profiles.login.login_id\": USERNAME, \n",
    "        \"profiles.login.password\": PASSWORD, \n",
    "        \"csrfToken\": authenticity_token\n",
    "    }\n",
    "\n",
    "# Perform login\n",
    "result = session_requests.post(LOGIN_URL, data = payload, headers = dict(referer = LOGIN_URL))\n",
    "\n",
    "# Scrape url\n",
    "result = session_requests.get(URL, headers = dict(referer = URL))\n",
    "soup=BeautifulSoup(result.content,\"html.parser\")\n",
    "contain = soup.find_all('tbody',attrs={'id':'table_body'})\n",
    "tr = contain[0].find_all('tr')\n",
    "#with open('green_vehicles1.csv','w') as outf :\n",
    "    #create header name of csv file\n",
    "    #outf.write('All_OEMs,Model_name,Status,Launch,Electric,Autonomous,Note\\n')\n",
    "\n",
    "def clean_string(var):\n",
    "    var = str(var)\n",
    "    var = var.rstrip()\n",
    "    var = var.replace('\\n','')\n",
    "    return var\n",
    "\n",
    "data = []    \n",
    "\n",
    "for i in range(len(tr)):\n",
    "    \n",
    "    datum = {}\n",
    "    td = tr[i].find_all('td')\n",
    "    All_OEMs = td[1].text\n",
    "    Model_name = td[2].text\n",
    "    Status = td[3].text\n",
    "    Launch = td[4].text\n",
    "    Electric = td[5].text\n",
    "    Autonomous = td[6].text\n",
    "    Note = td[7].text\n",
    "    #print('All OEMs:' + All_OEMs + ',Model name:' + Model_name + ',Status:' + Status + ',Launch:' + Launch + ',Electric:' + Electric + ',Autonomous:' + Autonomous + ',Note:' + Note)\n",
    "    #outf.write(All_OEMs + ',' + Model_name + ',' + Status + ',' + Launch + ',' + Electric + ',' + Autonomous + ',' + Note + '\\n')\n",
    "    datum['All OEMs'] = All_OEMs\n",
    "    datum['Model_name'] = clean_string(Model_name) \n",
    "    datum['Status'] = Status\n",
    "    datum['Launch'] = Launch\n",
    "    datum['Electric'] = Electric\n",
    "    datum['Autonomous'] = Autonomous\n",
    "    datum['Note'] = Note\n",
    "    data.append(datum)\n",
    "    "
   ]
  },
  {
   "cell_type": "code",
   "execution_count": 3,
   "metadata": {},
   "outputs": [
    {
     "data": {
      "text/plain": [
       "{'All OEMs': 'USA GM',\n",
       " 'Model_name': 'Chevrolet Monza Redline/RS',\n",
       " 'Status': 'Launched',\n",
       " 'Launch': '2020',\n",
       " 'Electric': 'HV',\n",
       " 'Autonomous': 'Level 1',\n",
       " 'Note': 'A compact sedan (48V)'}"
      ]
     },
     "execution_count": 3,
     "metadata": {},
     "output_type": "execute_result"
    }
   ],
   "source": [
    "data[0]"
   ]
  },
  {
   "cell_type": "code",
   "execution_count": 4,
   "metadata": {},
   "outputs": [],
   "source": [
    "from pymongo import MongoClient"
   ]
  },
  {
   "cell_type": "code",
   "execution_count": 5,
   "metadata": {},
   "outputs": [],
   "source": [
    "client = MongoClient()"
   ]
  },
  {
   "cell_type": "code",
   "execution_count": 6,
   "metadata": {},
   "outputs": [],
   "source": [
    "client = MongoClient('localhost',27017)"
   ]
  },
  {
   "cell_type": "code",
   "execution_count": 7,
   "metadata": {},
   "outputs": [],
   "source": [
    "database = client.intellcap"
   ]
  },
  {
   "cell_type": "code",
   "execution_count": 8,
   "metadata": {},
   "outputs": [],
   "source": [
    "for row in data:\n",
    "    database.vehicle.insert_one(row)"
   ]
  },
  {
   "cell_type": "code",
   "execution_count": null,
   "metadata": {},
   "outputs": [],
   "source": []
  }
 ],
 "metadata": {
  "kernelspec": {
   "display_name": "Python 3",
   "language": "python",
   "name": "python3"
  },
  "language_info": {
   "codemirror_mode": {
    "name": "ipython",
    "version": 3
   },
   "file_extension": ".py",
   "mimetype": "text/x-python",
   "name": "python",
   "nbconvert_exporter": "python",
   "pygments_lexer": "ipython3",
   "version": "3.8.5"
  }
 },
 "nbformat": 4,
 "nbformat_minor": 2
}
